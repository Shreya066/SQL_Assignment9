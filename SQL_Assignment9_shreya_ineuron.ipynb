{
 "cells": [
  {
   "cell_type": "markdown",
   "id": "e36253c9",
   "metadata": {},
   "source": [
    "**Q1. Write an SQL query to show the top n (say 10) records of a table.**"
   ]
  },
  {
   "cell_type": "markdown",
   "id": "eae308f9",
   "metadata": {},
   "source": [
    "Select * from table limit 10;"
   ]
  },
  {
   "cell_type": "markdown",
   "id": "54f8c05b",
   "metadata": {},
   "source": [
    "**Q2. Write an SQL query to determine the nth (say n=5) highest salary from a table.**"
   ]
  },
  {
   "cell_type": "markdown",
   "id": "f5a95993",
   "metadata": {},
   "source": [
    "Select name, salary from Employee order by salary desc limit 4,1;"
   ]
  }
 ],
 "metadata": {
  "kernelspec": {
   "display_name": "Python 3 (ipykernel)",
   "language": "python",
   "name": "python3"
  },
  "language_info": {
   "codemirror_mode": {
    "name": "ipython",
    "version": 3
   },
   "file_extension": ".py",
   "mimetype": "text/x-python",
   "name": "python",
   "nbconvert_exporter": "python",
   "pygments_lexer": "ipython3",
   "version": "3.9.7"
  }
 },
 "nbformat": 4,
 "nbformat_minor": 5
}
